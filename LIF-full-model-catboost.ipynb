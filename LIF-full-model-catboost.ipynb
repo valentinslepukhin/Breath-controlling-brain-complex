{
 "cells": [
  {
   "cell_type": "code",
   "execution_count": 1,
   "metadata": {
    "colab": {
     "base_uri": "https://localhost:8080/",
     "height": 52
    },
    "colab_type": "code",
    "executionInfo": {
     "elapsed": 2158,
     "status": "ok",
     "timestamp": 1588362755395,
     "user": {
      "displayName": "Valentin Slepukhin",
      "photoUrl": "",
      "userId": "03748456046691696053"
     },
     "user_tz": 420
    },
    "id": "t6jkBFMArg3x",
    "outputId": "03188630-8707-435f-a721-2133eebe51f0"
   },
   "outputs": [
    {
     "name": "stdout",
     "output_type": "stream",
     "text": [
      "Using matplotlib backend: MacOSX\n",
      "Populating the interactive namespace from numpy and matplotlib\n"
     ]
    },
    {
     "data": {
      "text/html": [
       "<style>.container { width:90% !important; }</style>"
      ],
      "text/plain": [
       "<IPython.core.display.HTML object>"
      ]
     },
     "metadata": {},
     "output_type": "display_data"
    }
   ],
   "source": [
    "#1\n",
    "import numpy as np\n",
    "%pylab \n",
    "#style.use('ggplot')\n",
    "#rcParams['figure.figsize'] = 12,8\n",
    "import numba as nb\n",
    "from numba import jit\n",
    "\n",
    "from IPython.core.display import display, HTML\n",
    "display(HTML(\"<style>.container { width:90% !important; }</style>\"))\n",
    "import copy\n",
    "import networkx as nx\n",
    "from copy import copy, deepcopy\n",
    "\n",
    "\n",
    "\n",
    "import pandas as pd\n",
    "\n",
    "from sklearn.metrics import accuracy_score\n",
    "from sklearn.model_selection import train_test_split\n",
    "#import connectivity as ct"
   ]
  },
  {
   "cell_type": "code",
   "execution_count": 2,
   "metadata": {},
   "outputs": [
    {
     "name": "stdout",
     "output_type": "stream",
     "text": [
      "Requirement already satisfied: catboost in /Users/valentinslepukhin/opt/anaconda3/lib/python3.9/site-packages (1.0.5)\n",
      "Requirement already satisfied: graphviz in /Users/valentinslepukhin/opt/anaconda3/lib/python3.9/site-packages (from catboost) (0.19.2)\n",
      "Requirement already satisfied: plotly in /Users/valentinslepukhin/opt/anaconda3/lib/python3.9/site-packages (from catboost) (5.7.0)\n",
      "Requirement already satisfied: six in /Users/valentinslepukhin/opt/anaconda3/lib/python3.9/site-packages (from catboost) (1.16.0)\n",
      "Requirement already satisfied: pandas>=0.24.0 in /Users/valentinslepukhin/opt/anaconda3/lib/python3.9/site-packages (from catboost) (1.3.4)\n",
      "Requirement already satisfied: matplotlib in /Users/valentinslepukhin/opt/anaconda3/lib/python3.9/site-packages (from catboost) (3.4.3)\n",
      "Requirement already satisfied: scipy in /Users/valentinslepukhin/opt/anaconda3/lib/python3.9/site-packages (from catboost) (1.7.1)\n",
      "Requirement already satisfied: numpy>=1.16.0 in /Users/valentinslepukhin/opt/anaconda3/lib/python3.9/site-packages (from catboost) (1.20.3)\n",
      "Requirement already satisfied: python-dateutil>=2.7.3 in /Users/valentinslepukhin/opt/anaconda3/lib/python3.9/site-packages (from pandas>=0.24.0->catboost) (2.8.2)\n",
      "Requirement already satisfied: pytz>=2017.3 in /Users/valentinslepukhin/opt/anaconda3/lib/python3.9/site-packages (from pandas>=0.24.0->catboost) (2021.3)\n",
      "Requirement already satisfied: kiwisolver>=1.0.1 in /Users/valentinslepukhin/opt/anaconda3/lib/python3.9/site-packages (from matplotlib->catboost) (1.3.1)\n",
      "Requirement already satisfied: pillow>=6.2.0 in /Users/valentinslepukhin/opt/anaconda3/lib/python3.9/site-packages (from matplotlib->catboost) (8.4.0)\n",
      "Requirement already satisfied: cycler>=0.10 in /Users/valentinslepukhin/opt/anaconda3/lib/python3.9/site-packages (from matplotlib->catboost) (0.10.0)\n",
      "Requirement already satisfied: pyparsing>=2.2.1 in /Users/valentinslepukhin/opt/anaconda3/lib/python3.9/site-packages (from matplotlib->catboost) (3.0.4)\n",
      "Requirement already satisfied: tenacity>=6.2.0 in /Users/valentinslepukhin/opt/anaconda3/lib/python3.9/site-packages (from plotly->catboost) (8.0.1)\n",
      "Note: you may need to restart the kernel to use updated packages.\n"
     ]
    }
   ],
   "source": [
    "pip install catboost"
   ]
  },
  {
   "cell_type": "code",
   "execution_count": 3,
   "metadata": {},
   "outputs": [],
   "source": [
    "from catboost import CatBoostClassifier, Pool, cv"
   ]
  },
  {
   "cell_type": "code",
   "execution_count": 5,
   "metadata": {},
   "outputs": [],
   "source": [
    "#Customary libraries\n",
    "import connectivities as cn #Different network connectivities\n",
    "import physiological_neurons as ph #Dynamics of leaky integrate ad fire neurons\n",
    "import parameters as pr #Parameters of the simulation \n",
    "\n",
    "def data_with_saving(data_size, first_powers, second_powers):\n",
    "    \n",
    "    par = pr.my_params()\n",
    "    N = int(par['n_neurons']) #total number of neurons\n",
    "    n_activated = int(par['Number of laser activated neurons'])\n",
    "    n_timesteps = int(par['n_timesteps'])\n",
    "    noise_fraction = 0.0 #fraction of noicy neurons\n",
    "\n",
    "    noise_vector = ph.create_noise_vector(N, noise_fraction)\n",
    "\n",
    "    my_dict = {}\n",
    "    my_dict[\"Answer\"] = []\n",
    "    \n",
    "    \n",
    "    idm = np.identity(N)\n",
    "    for i in range(first_powers * 2 * second_powers):\n",
    "        my_dict[i] = []\n",
    "        \n",
    "    for i in range(data_size):\n",
    "        \n",
    "        M, edges, W_matrix, syn_del = cn.generate_network(par)\n",
    "        \n",
    "        \n",
    "        \n",
    "\n",
    "        set_activated = cn.active_set(N, n_activated) #activated neurons are chosen\n",
    "    \n",
    "        input_matrix = ph.prepare_input2(par, set_activated)\n",
    "        \n",
    "        X = np.zeros(N)\n",
    "        \n",
    "        if (i%10 == 0):\n",
    "            print(i)\n",
    "       \n",
    "\n",
    "        \n",
    "        W_mat, syn_mat = cn.lists_to_matrices_2(N, edges, W_matrix, syn_del)\n",
    "        A,B, t = ph.full_process( edges, syn_del, input_matrix, W_matrix,  par, noise_vector)\n",
    "        if (t < n_timesteps - np.max(syn_del) - 1):\n",
    "            b = 1\n",
    "        else:\n",
    "            b = 0\n",
    "\n",
    "        \n",
    "        \n",
    "        \n",
    "        for j in range(n_activated):\n",
    "            a = int(set_activated[j])\n",
    "            X[a] = 1\n",
    "        V1 = np.matmul(W_mat,X)\n",
    "        for s1 in range(first_powers):\n",
    "            V2 = cn.order_n_vec(V1, s1 + 1, N)\n",
    "            for s2 in range(2):\n",
    "                if (s2==0):\n",
    "                    V3 = np.matmul(idm, V2)\n",
    "                else:\n",
    "                    V3 = np.matmul(W_mat, V2)\n",
    "                for s3 in range(second_powers):\n",
    "                    V4 = cn.order_n_vec(V3, s3 + 1, N)\n",
    "                    numb = s3 + s2*second_powers + s1 * 2 * second_powers\n",
    "                    totres = np.sum(V4)\n",
    "                    my_dict[numb] = [totres]\n",
    "        \n",
    "        \n",
    "        \n",
    "        my_dict[\"Answer\"] = b\n",
    "        df = pd.DataFrame(my_dict)\n",
    "        df.to_csv('data4.csv', mode='a')\n",
    "        \n",
    "    \n",
    "           "
   ]
  },
  {
   "cell_type": "code",
   "execution_count": 6,
   "metadata": {},
   "outputs": [
    {
     "name": "stdout",
     "output_type": "stream",
     "text": [
      "0\n",
      "10\n",
      "20\n",
      "30\n",
      "40\n",
      "50\n",
      "60\n",
      "70\n",
      "80\n",
      "90\n",
      "Data obtained\n"
     ]
    }
   ],
   "source": [
    "data_size = 100\n",
    "first_powers = 4\n",
    "second_powers = 3\n",
    "data_with_saving(data_size,first_powers, second_powers)  \n",
    "print(\"Data obtained\")\n",
    "\n"
   ]
  },
  {
   "cell_type": "code",
   "execution_count": null,
   "metadata": {},
   "outputs": [],
   "source": [
    "\n",
    "    \n",
    "def multiple_splitting(X, y, n_split, split_fraction):\n",
    "    ac_score = np.zeros(n_split)\n",
    "    simple_score = np.zeros(n_split)\n",
    "    categorical_features_indices = np.where(X.dtypes != np.float)[0]\n",
    "    for i in range(n_split):\n",
    "        X_train, X_validation, y_train, y_validation = train_test_split(X, y, train_size= split_fraction)\n",
    "        train_pool = Pool(X_train, y_train, cat_features=categorical_features_indices)\n",
    "        validate_pool = Pool(X_validation, y_validation, cat_features=categorical_features_indices)\n",
    "        num_iter = 1000\n",
    "        alpha = 0.2\n",
    "        \n",
    "        params = {\n",
    "            'iterations': 500,\n",
    "            'learning_rate': 0.1,\n",
    "            'eval_metric': 'Accuracy',\n",
    "    #'random_seed': 42,\n",
    "            'logging_level': 'Silent',\n",
    "            'use_best_model': False\n",
    "        }\n",
    "\n",
    "        model = CatBoostClassifier(**params)\n",
    "        model.fit(train_pool, eval_set=validate_pool)\n",
    "\n",
    "        best_model_params = params.copy()\n",
    "        best_model_params.update({\n",
    "            'use_best_model': True\n",
    "        })\n",
    "     \n",
    "\n",
    "        ac_score[i] = accuracy_score(y_validation, model.predict(X_validation))\n",
    "        \n",
    "    return(ac_score)\n",
    "\n",
    "\n",
    "def prepare_input(df4, cols):\n",
    "    X = df4\n",
    "    all_col = df4.columns\n",
    "    for c in all_col:\n",
    "        if (c in cols)==False:\n",
    "            X = X.drop(c, axis=1)\n",
    "            \n",
    "    return X       \n",
    "        "
   ]
  },
  {
   "cell_type": "code",
   "execution_count": null,
   "metadata": {},
   "outputs": [],
   "source": [
    "df4 = pd.read_csv('data4.csv')\n",
    "\n",
    "X = prepare_input(df4, ['0'])\n",
    "\n",
    "y = df4.Answer\n",
    "n_split = 5\n",
    "split_fraction = 0.75\n",
    "\n",
    "multiple_splitting(X, y, n_split, split_fraction)"
   ]
  },
  {
   "cell_type": "code",
   "execution_count": null,
   "metadata": {},
   "outputs": [],
   "source": []
  }
 ],
 "metadata": {
  "colab": {
   "collapsed_sections": [],
   "machine_shape": "hm",
   "name": "LIF-neurons-distinguished.ipynb",
   "provenance": []
  },
  "kernelspec": {
   "display_name": "Python 3 (ipykernel)",
   "language": "python",
   "name": "python3"
  },
  "language_info": {
   "codemirror_mode": {
    "name": "ipython",
    "version": 3
   },
   "file_extension": ".py",
   "mimetype": "text/x-python",
   "name": "python",
   "nbconvert_exporter": "python",
   "pygments_lexer": "ipython3",
   "version": "3.9.7"
  }
 },
 "nbformat": 4,
 "nbformat_minor": 4
}
