{
 "cells": [
  {
   "cell_type": "code",
   "execution_count": 1,
   "metadata": {
    "colab": {
     "base_uri": "https://localhost:8080/",
     "height": 55
    },
    "executionInfo": {
     "elapsed": 2692,
     "status": "ok",
     "timestamp": 1649041010445,
     "user": {
      "displayName": "Valentin Slepukhin",
      "userId": "03748456046691696053"
     },
     "user_tz": 420
    },
    "id": "t6jkBFMArg3x",
    "outputId": "8215ac73-c7fb-4d5e-8303-18cf51e76a31"
   },
   "outputs": [
    {
     "name": "stdout",
     "output_type": "stream",
     "text": [
      "Using matplotlib backend: MacOSX\n",
      "Populating the interactive namespace from numpy and matplotlib\n"
     ]
    },
    {
     "data": {
      "text/html": [
       "<style>.container { width:90% !important; }</style>"
      ],
      "text/plain": [
       "<IPython.core.display.HTML object>"
      ]
     },
     "metadata": {},
     "output_type": "display_data"
    }
   ],
   "source": [
    "#Importing libraries we will need\n",
    "import numpy as np\n",
    "%pylab \n",
    "\n",
    "from numba import jit #acceleration of the code\n",
    "from numba import njit\n",
    "from numba.core import types\n",
    "from numba.typed import Dict\n",
    "\n",
    "from IPython.core.display import display, HTML\n",
    "display(HTML(\"<style>.container { width:90% !important; }</style>\"))\n",
    "import copy\n",
    "import networkx as nx\n",
    "from copy import copy, deepcopy\n",
    "\n",
    "import pandas as pd\n"
   ]
  },
  {
   "cell_type": "code",
   "execution_count": 2,
   "metadata": {},
   "outputs": [
    {
     "data": {
      "text/html": [
       "<style>.container { width:90% !important; }</style>"
      ],
      "text/plain": [
       "<IPython.core.display.HTML object>"
      ]
     },
     "metadata": {},
     "output_type": "display_data"
    },
    {
     "data": {
      "text/html": [
       "<style>.container { width:90% !important; }</style>"
      ],
      "text/plain": [
       "<IPython.core.display.HTML object>"
      ]
     },
     "metadata": {},
     "output_type": "display_data"
    },
    {
     "data": {
      "text/html": [
       "<style>.container { width:90% !important; }</style>"
      ],
      "text/plain": [
       "<IPython.core.display.HTML object>"
      ]
     },
     "metadata": {},
     "output_type": "display_data"
    }
   ],
   "source": [
    "#Customary libraries\n",
    "import connectivities as cn #Different network connectivities\n",
    "import physiological_neurons as ph #Dynamics of leaky integrate ad fire neurons\n",
    "import parameters as pr #Parameters of the simulation"
   ]
  },
  {
   "cell_type": "code",
   "execution_count": null,
   "metadata": {
    "executionInfo": {
     "elapsed": 319,
     "status": "ok",
     "timestamp": 1649041556794,
     "user": {
      "displayName": "Valentin Slepukhin",
      "userId": "03748456046691696053"
     },
     "user_tz": 420
    },
    "id": "yU3IHN9aeJZp"
   },
   "outputs": [],
   "source": [
    "par = pr.my_params()\n",
    "M, edges, W_matrix, syn_del = cn.generate_network(par)\n",
    "N = int(par['n_neurons'])\n",
    "n_activated = int(par['Number of laser activated neurons'])\n",
    "\n",
    "set_activated = cn.active_set(N, n_activated) #activated neurons are chosen\n",
    "#set activated is a list of numbers. You also can give it explicitly, for example \n",
    "#set_activated = [1,2,3,4,5,6,7] \n",
    "#line below - creates the input matrix (voltage vs time for each of the activated neurons)    \n",
    "input_matrix = ph.prepare_input2(par, set_activated)\n",
    "noise_fraction = 0.0 #fraction of noicy neurons\n",
    "\n",
    "noise_vector = ph.create_noise_vector(N, noise_fraction)\n"
   ]
  },
  {
   "cell_type": "code",
   "execution_count": null,
   "metadata": {},
   "outputs": [],
   "source": [
    "\n",
    "\n",
    "#actual run of the simulation\n",
    "states, voltages, t = ph.full_process( edges, syn_del, input_matrix,\n",
    "                                   W_matrix,  par, noise_vector)\n"
   ]
  },
  {
   "cell_type": "code",
   "execution_count": null,
   "metadata": {},
   "outputs": [],
   "source": [
    "print(t)"
   ]
  },
  {
   "cell_type": "code",
   "execution_count": null,
   "metadata": {},
   "outputs": [],
   "source": []
  }
 ],
 "metadata": {
  "colab": {
   "collapsed_sections": [],
   "machine_shape": "hm",
   "name": "LIF-clear-to-publish.ipynb",
   "provenance": []
  },
  "kernelspec": {
   "display_name": "Python 3 (ipykernel)",
   "language": "python",
   "name": "python3"
  },
  "language_info": {
   "codemirror_mode": {
    "name": "ipython",
    "version": 3
   },
   "file_extension": ".py",
   "mimetype": "text/x-python",
   "name": "python",
   "nbconvert_exporter": "python",
   "pygments_lexer": "ipython3",
   "version": "3.9.7"
  }
 },
 "nbformat": 4,
 "nbformat_minor": 4
}
